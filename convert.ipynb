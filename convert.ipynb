{
 "cells": [
  {
   "cell_type": "code",
   "execution_count": null,
   "metadata": {},
   "outputs": [],
   "source": [
    "import pandas as df\n",
    "\n",
    "# parameter sep= diganti, disesuaikan dengan separator yang dimiliki oleh dataset\n",
    "df = df.read_csv('data.csv', sep='masukan separator', header=None)\n",
    "\n",
    "# Convert df to csv, parameter sep= diganti sesuai dengan separator yang diinginkan (rekomendasi ;)\n",
    "df.to_csv('data.csv', sep=';', header=None, index=False)"
   ]
  }
 ],
 "metadata": {
  "language_info": {
   "name": "python"
  },
  "orig_nbformat": 4
 },
 "nbformat": 4,
 "nbformat_minor": 2
}
