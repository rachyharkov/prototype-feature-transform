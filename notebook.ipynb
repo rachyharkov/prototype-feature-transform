{
 "cells": [
  {
   "cell_type": "markdown",
   "metadata": {},
   "source": [
    "Inisialisasi Data"
   ]
  },
  {
   "cell_type": "code",
   "execution_count": 186,
   "metadata": {},
   "outputs": [
    {
     "data": {
      "text/plain": [
       "array([[15.26  , 14.84  ,  0.871 , ...,  2.221 ,  5.22  ,  1.    ],\n",
       "       [14.88  , 14.57  ,  0.8811, ...,  1.018 ,  4.956 ,  1.    ],\n",
       "       [14.29  , 14.09  ,  0.905 , ...,  2.699 ,  4.825 ,  1.    ],\n",
       "       ...,\n",
       "       [13.2   , 13.66  ,  0.8883, ...,  8.315 ,  5.056 ,  3.    ],\n",
       "       [11.84  , 13.21  ,  0.8521, ...,  3.598 ,  5.044 ,  3.    ],\n",
       "       [12.3   , 13.34  ,  0.8684, ...,  5.637 ,  5.063 ,  3.    ]])"
      ]
     },
     "execution_count": 186,
     "metadata": {},
     "output_type": "execute_result"
    }
   ],
   "source": [
    "#contoh ada data\n",
    "\n",
    "from os import sep\n",
    "import numpy as np\n",
    "import pandas as pd\n",
    "# import k-means\n",
    "from sklearn.cluster import KMeans\n",
    "\n",
    "D = pd.read_csv('seeds_dataset.txt', delimiter=\"\\t\", header=None)\n",
    "\n",
    "# print(df)\n",
    "\n",
    "D = np.array(D)\n",
    "D"
   ]
  },
  {
   "cell_type": "markdown",
   "metadata": {},
   "source": [
    "Cek Data"
   ]
  },
  {
   "cell_type": "code",
   "execution_count": 187,
   "metadata": {},
   "outputs": [
    {
     "data": {
      "text/plain": [
       "(210, 8)"
      ]
     },
     "execution_count": 187,
     "metadata": {},
     "output_type": "execute_result"
    }
   ],
   "source": [
    "D.shape"
   ]
  },
  {
   "cell_type": "code",
   "execution_count": 188,
   "metadata": {},
   "outputs": [],
   "source": [
    "new_D = []"
   ]
  },
  {
   "cell_type": "code",
   "execution_count": 189,
   "metadata": {},
   "outputs": [],
   "source": [
    "import math\n",
    "from scipy.special import softmax\n",
    "\n",
    "# empty array\n",
    "dataset_transformed = np.array([])\n",
    "\n",
    "\n",
    "for j in range(D.shape[1]):\n",
    "    # print(D[:, j])\n",
    "    unique_values = np.unique(D[:, j])\n",
    "    n = unique_values.size\n",
    "    \n",
    "\n",
    "    # define empty array\n",
    "    array_j = D[:, j]\n",
    "    \n",
    "    get_probability = softmax(array_j)\n",
    "    \n",
    "    probability = {}\n",
    "    for i in range(array_j.shape[0]):\n",
    "        probability[i] = get_probability[i]\n",
    "    \n",
    "    # print(probability)\n",
    "    \n",
    "    # each value in array_j_dict fill with probability\n",
    "    \n",
    "\n",
    "    temp_subset_i_of_j = []\n",
    "    subset_i_of_j = {}\n",
    "    for i in range(n):\n",
    "        subset_i_of_j[unique_values[i]] = 0\n",
    "    # print(subset_i_of_j)\n",
    "    \n",
    "    new_subset_j = []\n",
    "    # # print(probability)\n",
    "\n",
    "    # # p_j = softmax(D[:, j])\n",
    "    # # # print(p)\n",
    "    for i in range(n):\n",
    "        \n",
    "        sum_k_temp = 0\n",
    "        for k in range(i):\n",
    "            # probability of k is p_{k}\n",
    "            p_k = probability[k]\n",
    "            sum_k_temp += (n - k) * p_k\n",
    "        \n",
    "        # print(probability[i])\n",
    "        mu_i = ((n - i) - sum_k_temp) * math.sqrt((1 - (i * probability[i]**3))/ probability[i]*(i - j)**2)\n",
    "\n",
    "        std_dev_i = probability[i]\n",
    "        \n",
    "    # #     # # gaussian distribution N(mean_i, std_dev_i)\n",
    "        gaussian_distribution = np.random.normal(mu_i, std_dev_i, 1)\n",
    "        \n",
    "    # #     # append value gaussian distribution to array\n",
    "        temp_subset_i_of_j.append(gaussian_distribution[0])\n",
    "    # # # change value of unique_values_dict to subset_i_of_j\n",
    "    ndex = 0\n",
    "    for k, v in subset_i_of_j.items():\n",
    "        subset_i_of_j[k] = temp_subset_i_of_j[ndex]\n",
    "        ndex += 1\n",
    "\n",
    "    # print(subset_i_of_j)\n",
    "    # print(temp_subset_i_of_j)\n",
    "    for l in range(len(array_j)):\n",
    "        new_subset_j.append(subset_i_of_j[array_j[l]])\n",
    "\n",
    "    # insert new_subset_j to new_D\n",
    "    new_D.append(new_subset_j)"
   ]
  },
  {
   "cell_type": "code",
   "execution_count": 204,
   "metadata": {},
   "outputs": [
    {
     "data": {
      "text/plain": [
       "(210, 8)"
      ]
     },
     "execution_count": 204,
     "metadata": {},
     "output_type": "execute_result"
    }
   ],
   "source": [
    "new_D = np.array(new_D)\n",
    "D.shape"
   ]
  },
  {
   "cell_type": "code",
   "execution_count": 205,
   "metadata": {},
   "outputs": [],
   "source": [
    "# normalize data using standard scaler\n",
    "from sklearn.preprocessing import StandardScaler\n",
    "UFT_scaler = StandardScaler()\n",
    "UFT_scaled = UFT_scaler.fit_transform(new_D)\n",
    "# print(UFT_scaled)\n",
    "normal_scaler = StandardScaler()\n",
    "normal_scaled = normal_scaler.fit_transform(D)\n",
    "# print(normal_scaled)\n"
   ]
  },
  {
   "cell_type": "code",
   "execution_count": 206,
   "metadata": {},
   "outputs": [
    {
     "data": {
      "text/plain": [
       "KMeans(n_clusters=3, random_state=0)"
      ]
     },
     "execution_count": 206,
     "metadata": {},
     "output_type": "execute_result"
    }
   ],
   "source": [
    "kmeans_uft = KMeans(n_clusters=3, random_state=0)\n",
    "kmeans_uft.fit(new_D)\n",
    "kmeans_normal = KMeans(n_clusters=3, random_state=0)\n",
    "kmeans_normal.fit(D)"
   ]
  },
  {
   "cell_type": "code",
   "execution_count": 207,
   "metadata": {},
   "outputs": [
    {
     "data": {
      "image/png": "[encoded data removed]",
      "text/plain": [
       "<Figure size 432x288 with 1 Axes>"
      ]
     },
     "metadata": {
      "needs_background": "light"
     },
     "output_type": "display_data"
    },
    {
     "data": {
      "image/png": "[encoded data removed]",
      "text/plain": [
       "<Figure size 432x288 with 1 Axes>"
      ]
     },
     "metadata": {
      "needs_background": "light"
     },
     "output_type": "display_data"
    }
   ],
   "source": [
    "# plot data\n",
    "import matplotlib.pyplot as plt\n",
    "\n",
    "# initialize plot 1\n",
    "plt.figure(1)\n",
    "plt.scatter(normal_scaled[:, 0], normal_scaled[:, 1], c=kmeans_normal.labels_, cmap='viridis')\n",
    "plt.xlabel('sepal length')\n",
    "plt.ylabel('sepal width')\n",
    "plt.title('Normalization Only K-means clustering')\n",
    "\n",
    "# initialize plot 2\n",
    "plt.figure(2)\n",
    "plt.scatter(UFT_scaled[:, 0], UFT_scaled[:, 1], c=kmeans_uft.labels_, cmap='viridis')\n",
    "plt.xlabel('sepal length')\n",
    "plt.ylabel('sepal width')\n",
    "plt.title('UFT + Normalization K-means clustering')\n",
    "\n",
    "plt.show()"
   ]
  }
 ],
 "metadata": {
  "kernelspec": {
   "display_name": "Python 3.10.6 64-bit (windows store)",
   "language": "python",
   "name": "python3"
  },
  "language_info": {
   "codemirror_mode": {
    "name": "ipython",
    "version": 3
   },
   "file_extension": ".py",
   "mimetype": "text/x-python",
   "name": "python",
   "nbconvert_exporter": "python",
   "pygments_lexer": "ipython3",
   "version": "3.10.6"
  },
  "orig_nbformat": 4,
  "vscode": {
   "interpreter": {
    "hash": "ff7573f1831cb99fcd99b3a81494c967ce7bb90e5d2619f47f81c5d8e958e1df"
   }
  }
 },
 "nbformat": 4,
 "nbformat_minor": 2
}
