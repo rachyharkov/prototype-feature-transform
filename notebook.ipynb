{
 "cells": [
  {
   "cell_type": "markdown",
   "metadata": {},
   "source": [
    "Inisialisasi Data"
   ]
  },
  {
   "cell_type": "code",
   "execution_count": 34,
   "metadata": {},
   "outputs": [],
   "source": [
    "#contoh ada data\n",
    "\n",
    "from os import sep\n",
    "import numpy as np\n",
    "import pandas as pd\n",
    "# import k-means\n",
    "from sklearn.cluster import KMeans\n",
    "\n",
    "D = pd.read_csv('seeds_dataset.csv', delimiter=\";\", header=None)\n",
    "D_new = D.copy()"
   ]
  },
  {
   "cell_type": "markdown",
   "metadata": {},
   "source": [
    "Cek Data"
   ]
  },
  {
   "cell_type": "code",
   "execution_count": null,
   "metadata": {},
   "outputs": [],
   "source": [
    "D.shape"
   ]
  },
  {
   "cell_type": "code",
   "execution_count": null,
   "metadata": {},
   "outputs": [],
   "source": [
    "D.dtypes\n",
    "    \n"
   ]
  },
  {
   "cell_type": "code",
   "execution_count": 35,
   "metadata": {},
   "outputs": [],
   "source": [
    "import math\n",
    "from scipy.special import softmax\n",
    "\n",
    "for j in range(D.shape[1]):\n",
    "    if(D[j].dtype == 'object'):\n",
    "\n",
    "        feature_in_j = D[j].drop_duplicates()\n",
    "        n = feature_in_j.size\n",
    "\n",
    "        get_probability = D.groupby(j).size().div(len(D))\n",
    "\n",
    "        probability = {}\n",
    "        for i in range(feature_in_j.shape[0]):\n",
    "            probability[i] = get_probability[i]\n",
    "\n",
    "        subset_i_of_j = {}\n",
    "        for i in range(n):\n",
    "            subset_i_of_j[feature_in_j.iloc[i]] = 0\n",
    "        \n",
    "        new_subset_j = {}\n",
    "\n",
    "        for i in range(n):\n",
    "            \n",
    "            sum_k_temp = 0\n",
    "            for k in range(i):\n",
    "\n",
    "                p_k = probability[k]\n",
    "                sum_k_temp += (n - k) * p_k\n",
    "            \n",
    "            mu_i = ((n - i) - sum_k_temp) * math.sqrt((1 - (i * probability[i]**3))/ probability[i]*probability[j]*((i - j)**2))\n",
    "\n",
    "            std_dev_i = probability[i]\n",
    "            \n",
    "            gaussian_distribution = np.random.normal(mu_i, std_dev_i)\n",
    "            subset_i_of_j[feature_in_j.iloc[i]] = gaussian_distribution\n",
    "            \n",
    "        D_new[j].replace(subset_i_of_j, inplace=True)"
   ]
  },
  {
   "cell_type": "code",
   "execution_count": 36,
   "metadata": {},
   "outputs": [
    {
     "name": "stdout",
     "output_type": "stream",
     "text": [
      "     0      1      2       3      4      5      6      7  8\n",
      "0    a  15.26  14.84  0.8710  5.763  3.312  2.221  5.220  1\n",
      "1    a  14.88  14.57  0.8811  5.554  3.333  1.018  4.956  1\n",
      "2    a  14.29  14.09  0.9050  5.291  3.337  2.699  4.825  1\n",
      "3    a  13.84  13.94  0.8955  5.324  3.379  2.259  4.805  1\n",
      "4    a  16.14  14.99  0.9034  5.658  3.562  1.355  5.175  1\n",
      "..  ..    ...    ...     ...    ...    ...    ...    ... ..\n",
      "205  d  12.19  13.20  0.8783  5.137  2.981  3.631  4.870  3\n",
      "206  d  11.23  12.88  0.8511  5.140  2.795  4.325  5.003  3\n",
      "207  d  13.20  13.66  0.8883  5.236  3.232  8.315  5.056  3\n",
      "208  d  11.84  13.21  0.8521  5.175  2.836  3.598  5.044  3\n",
      "209  d  12.30  13.34  0.8684  5.243  2.974  5.637  5.063  3\n",
      "\n",
      "[210 rows x 9 columns]\n",
      "            0      1      2       3      4      5      6      7  8\n",
      "0   -0.025164  15.26  14.84  0.8710  5.763  3.312  2.221  5.220  1\n",
      "1   -0.025164  14.88  14.57  0.8811  5.554  3.333  1.018  4.956  1\n",
      "2   -0.025164  14.29  14.09  0.9050  5.291  3.337  2.699  4.825  1\n",
      "3   -0.025164  13.84  13.94  0.8955  5.324  3.379  2.259  4.805  1\n",
      "4   -0.025164  16.14  14.99  0.9034  5.658  3.562  1.355  5.175  1\n",
      "..        ...    ...    ...     ...    ...    ...    ...    ... ..\n",
      "205 -3.366245  12.19  13.20  0.8783  5.137  2.981  3.631  4.870  3\n",
      "206 -3.366245  11.23  12.88  0.8511  5.140  2.795  4.325  5.003  3\n",
      "207 -3.366245  13.20  13.66  0.8883  5.236  3.232  8.315  5.056  3\n",
      "208 -3.366245  11.84  13.21  0.8521  5.175  2.836  3.598  5.044  3\n",
      "209 -3.366245  12.30  13.34  0.8684  5.243  2.974  5.637  5.063  3\n",
      "\n",
      "[210 rows x 9 columns]\n"
     ]
    }
   ],
   "source": [
    "print(D)\n",
    "print(D_new)"
   ]
  },
  {
   "cell_type": "code",
   "execution_count": 53,
   "metadata": {},
   "outputs": [
    {
     "name": "stdout",
     "output_type": "stream",
     "text": [
      "     0      1      2       3      4      5      6      7  8\n",
      "0    0  15.26  14.84  0.8710  5.763  3.312  2.221  5.220  1\n",
      "1    0  14.88  14.57  0.8811  5.554  3.333  1.018  4.956  1\n",
      "2    0  14.29  14.09  0.9050  5.291  3.337  2.699  4.825  1\n",
      "3    0  13.84  13.94  0.8955  5.324  3.379  2.259  4.805  1\n",
      "4    0  16.14  14.99  0.9034  5.658  3.562  1.355  5.175  1\n",
      "..  ..    ...    ...     ...    ...    ...    ...    ... ..\n",
      "205  3  12.19  13.20  0.8783  5.137  2.981  3.631  4.870  3\n",
      "206  3  11.23  12.88  0.8511  5.140  2.795  4.325  5.003  3\n",
      "207  3  13.20  13.66  0.8883  5.236  3.232  8.315  5.056  3\n",
      "208  3  11.84  13.21  0.8521  5.175  2.836  3.598  5.044  3\n",
      "209  3  12.30  13.34  0.8684  5.243  2.974  5.637  5.063  3\n",
      "\n",
      "[210 rows x 9 columns]\n",
      "            0      1      2       3      4      5      6      7  8\n",
      "0   -0.025164  15.26  14.84  0.8710  5.763  3.312  2.221  5.220  1\n",
      "1   -0.025164  14.88  14.57  0.8811  5.554  3.333  1.018  4.956  1\n",
      "2   -0.025164  14.29  14.09  0.9050  5.291  3.337  2.699  4.825  1\n",
      "3   -0.025164  13.84  13.94  0.8955  5.324  3.379  2.259  4.805  1\n",
      "4   -0.025164  16.14  14.99  0.9034  5.658  3.562  1.355  5.175  1\n",
      "..        ...    ...    ...     ...    ...    ...    ...    ... ..\n",
      "205 -3.366245  12.19  13.20  0.8783  5.137  2.981  3.631  4.870  3\n",
      "206 -3.366245  11.23  12.88  0.8511  5.140  2.795  4.325  5.003  3\n",
      "207 -3.366245  13.20  13.66  0.8883  5.236  3.232  8.315  5.056  3\n",
      "208 -3.366245  11.84  13.21  0.8521  5.175  2.836  3.598  5.044  3\n",
      "209 -3.366245  12.30  13.34  0.8684  5.243  2.974  5.637  5.063  3\n",
      "\n",
      "[210 rows x 9 columns]\n"
     ]
    }
   ],
   "source": [
    "# labelled data using sklearn ONLY applied to non-numerical data\n",
    "from sklearn.preprocessing import LabelEncoder\n",
    "le = LabelEncoder()\n",
    "for j in range(D.shape[1]):\n",
    "    if(D[j].dtype == 'object'):\n",
    "        D[j] = le.fit_transform(D[j])\n",
    "\n",
    "print(D)\n",
    "print(D_new)"
   ]
  },
  {
   "cell_type": "code",
   "execution_count": 54,
   "metadata": {},
   "outputs": [
    {
     "name": "stdout",
     "output_type": "stream",
     "text": [
      "[[-1.3822179   0.14209777  0.21546244 ... -0.98615174 -0.38357742\n",
      "  -1.22474487]\n",
      " [-1.3822179   0.01118803  0.00822376 ... -1.7881662  -0.92201349\n",
      "  -1.22474487]\n",
      " [-1.3822179  -0.19206658 -0.36020056 ... -0.66747933 -1.18919199\n",
      "  -1.22474487]\n",
      " ...\n",
      " [ 1.25656172 -0.56757084 -0.69024735 ...  3.07658816 -0.71806043\n",
      "   1.22474487]\n",
      " [ 1.25656172 -1.03608992 -1.03564515 ... -0.0681352  -0.7425348\n",
      "   1.22474487]\n",
      " [ 1.25656172 -0.87762023 -0.93586356 ...  1.29122264 -0.70378372\n",
      "   1.22474487]]\n",
      "[[ 0.12053086  0.14209777  0.21546244 ... -0.98615174 -0.38357742\n",
      "  -1.22474487]\n",
      " [ 0.12053086  0.01118803  0.00822376 ... -1.7881662  -0.92201349\n",
      "  -1.22474487]\n",
      " [ 0.12053086 -0.19206658 -0.36020056 ... -0.66747933 -1.18919199\n",
      "  -1.22474487]\n",
      " ...\n",
      " [-1.49535524 -0.56757084 -0.69024735 ...  3.07658816 -0.71806043\n",
      "   1.22474487]\n",
      " [-1.49535524 -1.03608992 -1.03564515 ... -0.0681352  -0.7425348\n",
      "   1.22474487]\n",
      " [-1.49535524 -0.87762023 -0.93586356 ...  1.29122264 -0.70378372\n",
      "   1.22474487]]\n"
     ]
    }
   ],
   "source": [
    "# normalize data using standard scaler\n",
    "from sklearn.preprocessing import StandardScaler\n",
    "UFT_scaler = StandardScaler()\n",
    "UFT_scaled = UFT_scaler.fit_transform(D_new)\n",
    "# print(UFT_scaled)\n",
    "normal_scaler = StandardScaler()\n",
    "normal_scaled = normal_scaler.fit_transform(D)\n",
    "# print(normal_scaled)\n",
    "\n",
    "print(normal_scaled)\n",
    "print(UFT_scaled)\n"
   ]
  },
  {
   "cell_type": "code",
   "execution_count": 109,
   "metadata": {},
   "outputs": [],
   "source": [
    "X = D.iloc[:, :8].values\n",
    "y = D.iloc[:, 8].values\n",
    "\n",
    "X_uft = D_new.iloc[:, :8].values\n",
    "y_uft = D_new.iloc[:, 8].values\n"
   ]
  },
  {
   "cell_type": "code",
   "execution_count": 110,
   "metadata": {},
   "outputs": [
    {
     "name": "stdout",
     "output_type": "stream",
     "text": [
      "[0.85491635 0.80558559 0.79177404 0.29002097 0.64630196 0.73050116\n",
      " 0.18176347 0.5752129 ]\n",
      "[0.84732138 0.80383956 0.79919583 0.29727969 0.64964869 0.73338475\n",
      " 0.18348305 0.57342501]\n"
     ]
    }
   ],
   "source": [
    "# plot the graph\n",
    "import matplotlib.pyplot as plt\n",
    "from sklearn.feature_selection import mutual_info_classif as MIC\n",
    "\n",
    "\n",
    "mi_score = MIC(X,y)\n",
    "mi_score_uft = MIC(X_uft,y_uft)\n",
    "\n",
    "print(mi_score)\n",
    "print(mi_score_uft)"
   ]
  },
  {
   "cell_type": "code",
   "execution_count": 111,
   "metadata": {},
   "outputs": [
    {
     "data": {
      "text/plain": [
       "KMeans(n_clusters=4, random_state=0)"
      ]
     },
     "execution_count": 111,
     "metadata": {},
     "output_type": "execute_result"
    }
   ],
   "source": [
    "kmeans_uft = KMeans(n_clusters=3, random_state=0)\n",
    "kmeans_uft.fit(D_new)\n",
    "kmeans_normal = KMeans(n_clusters=3, random_state=0)\n",
    "kmeans_normal.fit(D)"
   ]
  },
  {
   "cell_type": "code",
   "execution_count": 112,
   "metadata": {},
   "outputs": [
    {
     "data": {
      "image/png": "[encoded data removed]",
      "text/plain": [
       "<Figure size 432x288 with 1 Axes>"
      ]
     },
     "metadata": {
      "needs_background": "light"
     },
     "output_type": "display_data"
    },
    {
     "data": {
      "image/png": "[encoded data removed]",
      "text/plain": [
       "<Figure size 432x288 with 1 Axes>"
      ]
     },
     "metadata": {
      "needs_background": "light"
     },
     "output_type": "display_data"
    }
   ],
   "source": [
    "# plot data\n",
    "import matplotlib.pyplot as plt\n",
    "\n",
    "# initialize plot 1\n",
    "plt.figure(1)\n",
    "plt.scatter(normal_scaled[:, 1], normal_scaled[:, 2], c=kmeans_normal.labels_, cmap='viridis')\n",
    "plt.xlabel('sepal length')\n",
    "plt.ylabel('sepal width')\n",
    "plt.title('Normalization Only K-means clustering')\n",
    "\n",
    "# initialize plot 2\n",
    "plt.figure(2)\n",
    "plt.scatter(UFT_scaled[:, 1], UFT_scaled[:, 2], c=kmeans_uft.labels_, cmap='viridis')\n",
    "plt.xlabel('sepal length')\n",
    "plt.ylabel('sepal width')\n",
    "plt.title('UFT + Normalization K-means clustering')\n",
    "\n",
    "plt.show()"
   ]
  }
 ],
 "metadata": {
  "kernelspec": {
   "display_name": "Python 3.10.6 64-bit (windows store)",
   "language": "python",
   "name": "python3"
  },
  "language_info": {
   "codemirror_mode": {
    "name": "ipython",
    "version": 3
   },
   "file_extension": ".py",
   "mimetype": "text/x-python",
   "name": "python",
   "nbconvert_exporter": "python",
   "pygments_lexer": "ipython3",
   "version": "3.10.6"
  },
  "orig_nbformat": 4,
  "vscode": {
   "interpreter": {
    "hash": "ff7573f1831cb99fcd99b3a81494c967ce7bb90e5d2619f47f81c5d8e958e1df"
   }
  }
 },
 "nbformat": 4,
 "nbformat_minor": 2
}
