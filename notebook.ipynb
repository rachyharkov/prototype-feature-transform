{
 "cells": [
  {
   "cell_type": "markdown",
   "metadata": {},
   "source": [
    "Inisialisasi Data"
   ]
  },
  {
   "cell_type": "code",
   "execution_count": 1,
   "metadata": {},
   "outputs": [
    {
     "data": {
      "text/plain": [
       "array([[15.26  , 14.84  ,  0.871 , ...,  2.221 ,  5.22  ,  1.    ],\n",
       "       [14.88  , 14.57  ,  0.8811, ...,  1.018 ,  4.956 ,  1.    ],\n",
       "       [14.29  , 14.09  ,  0.905 , ...,  2.699 ,  4.825 ,  1.    ],\n",
       "       ...,\n",
       "       [13.2   , 13.66  ,  0.8883, ...,  8.315 ,  5.056 ,  3.    ],\n",
       "       [11.84  , 13.21  ,  0.8521, ...,  3.598 ,  5.044 ,  3.    ],\n",
       "       [12.3   , 13.34  ,  0.8684, ...,  5.637 ,  5.063 ,  3.    ]])"
      ]
     },
     "execution_count": 1,
     "metadata": {},
     "output_type": "execute_result"
    }
   ],
   "source": [
    "#contoh ada data\n",
    "\n",
    "from os import sep\n",
    "import numpy as np\n",
    "import pandas as pd\n",
    "# import k-means\n",
    "from sklearn.cluster import KMeans\n",
    "\n",
    "D = pd.read_csv('seeds_dataset.txt', delimiter=\"\\t\", header=None)\n",
    "\n",
    "# print(df)\n",
    "\n",
    "D = np.array(D)\n",
    "D"
   ]
  },
  {
   "cell_type": "markdown",
   "metadata": {},
   "source": [
    "Cek Data"
   ]
  },
  {
   "cell_type": "code",
   "execution_count": 2,
   "metadata": {},
   "outputs": [
    {
     "data": {
      "text/plain": [
       "(210, 8)"
      ]
     },
     "execution_count": 2,
     "metadata": {},
     "output_type": "execute_result"
    }
   ],
   "source": [
    "D.shape"
   ]
  },
  {
   "cell_type": "code",
   "execution_count": 61,
   "metadata": {},
   "outputs": [
    {
     "name": "stdout",
     "output_type": "stream",
     "text": [
      "[14.84 14.57 14.09 13.94 14.99 14.21 14.49 14.1  15.46 15.25 14.85 14.16\n",
      " 14.02 14.06 14.05 14.28 13.83 14.75 14.21 13.57 14.4  14.26 14.9  13.23\n",
      " 14.76 15.16 13.76 13.67 14.18 14.02 13.82 14.94 14.41 14.17 14.68 15.\n",
      " 15.27 15.38 14.52 14.17 13.85 13.85 13.55 14.86 14.54 14.04 14.76 14.56\n",
      " 14.52 14.67 14.4  14.91 14.61 14.28 14.6  14.77 14.35 14.43 14.77 13.47\n",
      " 12.86 12.63 13.19 13.84 13.57 13.5  14.37 14.29 14.39 13.75 15.98 15.67\n",
      " 15.73 16.26 15.51 15.62 15.91 17.23 16.49 15.55 15.34 16.19 16.89 16.74\n",
      " 16.71 16.09 16.26 16.66 17.21 17.05 16.99 16.2  16.29 16.05 16.52 15.65\n",
      " 16.59 16.57 16.26 16.34 15.25 15.86 16.5  16.63 16.42 16.29 16.17 15.86\n",
      " 16.92 16.22 16.12 16.72 16.31 16.61 17.25 16.45 16.2  16.45 16.23 16.9\n",
      " 16.91 16.12 15.38 15.97 14.89 16.18 16.41 15.85 17.03 15.66 15.89 16.32\n",
      " 14.9  15.33 14.89 14.66 15.76 15.15 15.11 15.18 13.92 13.94 13.95 13.32\n",
      " 13.4  13.13 13.13 13.46 13.71 12.93 13.23 13.52 13.6  13.04 13.05 13.05\n",
      " 12.87 13.73 13.52 13.22 13.67 13.33 13.41 13.57 12.79 13.15 13.59 13.45\n",
      " 13.12 13.   13.   13.1  12.97 13.08 12.96 12.57 13.01 12.73 13.05 13.47\n",
      " 12.95 13.41 13.36 13.07 13.77 13.31 13.45 12.8  12.82 12.41 12.8  12.86\n",
      " 13.02 12.83 13.27 13.47 13.53 13.78 13.67 13.38 13.44 13.32 12.72 13.41\n",
      " 13.47 13.2  12.88 13.66 13.21 13.34]\n",
      "[0.871  0.8811 0.905  0.8955 0.9034 0.8951 0.8799 0.8911 0.8747 0.888\n",
      " 0.8696 0.8796 0.888  0.8759 0.8744 0.8993 0.9183 0.9058 0.9153 0.8686\n",
      " 0.8584 0.8722 0.8988 0.8664 0.8657 0.8849 0.8641 0.8564 0.882  0.8604\n",
      " 0.8662 0.8724 0.8529 0.8728 0.8779 0.9    0.8734 0.9079 0.8823 0.8944\n",
      " 0.8871 0.8852 0.9009 0.882  0.8986 0.8794 0.8861 0.8883 0.8819 0.8676\n",
      " 0.8751 0.8923 0.8538 0.8831 0.8557 0.8658 0.8818 0.9006 0.8857 0.8392\n",
      " 0.8683 0.884  0.8923 0.868  0.8716 0.8879 0.8726 0.8625 0.8726 0.8458\n",
      " 0.8673 0.8623 0.8763 0.9081 0.8786 0.8638 0.8599 0.8763 0.875  0.8892\n",
      " 0.8823 0.8977 0.8894 0.8779 0.878  0.887  0.8969 0.859  0.8989 0.9031\n",
      " 0.8746 0.8984 0.8906 0.9066 0.8452 0.8648 0.8815 0.8687 0.8637 0.881\n",
      " 0.8866 0.8992 0.8985 0.8717 0.8829 0.8917 0.9056 0.88   0.8752 0.8865\n",
      " 0.8921 0.8716 0.9035 0.8722 0.8859 0.8854 0.9077 0.889  0.9008 0.8811\n",
      " 0.8897 0.8772 0.8588 0.9077 0.9064 0.8999 0.8698 0.8993 0.8735 0.8991\n",
      " 0.9108 0.8942 0.8706 0.8644 0.8823 0.899  0.8785 0.8527 0.858  0.885\n",
      " 0.848  0.8613 0.862  0.8652 0.8274 0.8167 0.8335 0.8658 0.8491 0.8107\n",
      " 0.8496 0.8249 0.8333 0.8266 0.8382 0.8253 0.8596 0.8081 0.8082 0.8263\n",
      " 0.8425 0.8503 0.8416 0.8558 0.8558 0.8793 0.8462 0.8443 0.8291 0.8359\n",
      " 0.8189 0.8455 0.8419 0.8375 0.8099 0.859  0.8355 0.8329 0.8473 0.8453\n",
      " 0.856  0.8706 0.8579 0.8575 0.8541 0.8198 0.8198 0.8372 0.8594 0.8648\n",
      " 0.839  0.8563 0.8795 0.8256 0.8639 0.886  0.8786 0.8849 0.8481 0.8964\n",
      " 0.8609 0.8977 0.868  0.8874 0.8567 0.8783 0.8511 0.8883 0.8521 0.8684]\n",
      "[5.763 5.554 5.291 5.324 5.658 5.386 5.563 5.42  6.053 5.884 5.714 5.438\n",
      " 5.439 5.479 5.482 5.351 5.119 5.527 5.205 5.226 5.658 5.52  5.618 5.099\n",
      " 5.789 5.833 5.395 5.395 5.541 5.516 5.454 5.757 5.717 5.585 5.712 5.709\n",
      " 5.826 5.832 5.656 5.397 5.348 5.351 5.138 5.877 5.579 5.376 5.701 5.57\n",
      " 5.545 5.678 5.585 5.674 5.715 5.504 5.741 5.702 5.388 5.384 5.662 5.159\n",
      " 5.008 4.902 5.076 5.395 5.262 5.139 5.63  5.609 5.569 5.412 6.191 5.998\n",
      " 5.978 6.154 6.017 5.927 6.064 6.579 6.445 5.85  5.875 6.006 6.285 6.384\n",
      " 6.366 6.173 6.084 6.549 6.573 6.45  6.581 6.172 6.272 6.037 6.666 6.139\n",
      " 6.341 6.449 6.271 6.219 5.718 5.89  6.113 6.369 6.248 6.037 6.152 6.033\n",
      " 6.675 6.153 6.107 6.303 6.183 6.259 6.563 6.416 6.051 6.245 6.227 6.493\n",
      " 6.315 6.059 5.762 5.98  5.363 6.111 6.285 5.979 6.513 5.791 5.979 6.144\n",
      " 5.884 5.845 5.776 5.477 6.145 5.92  5.832 5.872 5.472 5.541 5.389 5.224\n",
      " 5.314 5.279 5.176 5.267 5.386 5.317 5.263 5.405 5.408 5.22  5.175 5.25\n",
      " 5.053 5.394 5.444 5.304 5.451 5.35  5.267 5.333 5.011 5.105 5.319 5.417\n",
      " 5.176 5.09  5.325 5.167 5.088 5.136 5.278 4.981 5.186 5.145 5.18  5.357\n",
      " 5.09  5.236 5.24  5.108 5.495 5.363 5.413 5.088 5.089 4.899 5.046 5.091\n",
      " 5.132 5.18  5.236 5.16  5.224 5.32  5.41  5.073 5.219 4.984 5.009 5.183\n",
      " 5.204 5.137 5.14  5.236 5.175 5.243]\n",
      "[3.312 3.333 3.337 3.379 3.562 3.312 3.259 3.302 3.465 3.505 3.242 3.201\n",
      " 3.199 3.156 3.114 3.333 3.383 3.514 3.466 3.049 3.129 3.168 3.507 2.936\n",
      " 3.245 3.421 3.026 2.956 3.221 3.065 2.975 3.371 3.186 3.15  3.328 3.485\n",
      " 3.464 3.683 3.288 3.298 3.156 3.158 3.201 3.396 3.462 3.155 3.393 3.377\n",
      " 3.291 3.258 3.272 3.434 3.113 3.199 3.113 3.212 3.377 3.412 3.419 3.032\n",
      " 2.85  2.879 3.042 3.07  3.026 3.119 3.19  3.158 3.153 2.882 3.561 3.484\n",
      " 3.594 3.93  3.486 3.438 3.403 3.814 3.639 3.566 3.467 3.857 3.864 3.772\n",
      " 3.801 3.651 3.764 3.67  4.033 4.032 3.785 3.796 3.693 3.86  3.485 3.463\n",
      " 3.81  3.552 3.512 3.684 3.525 3.694 3.892 3.681 3.755 3.786 3.806 3.573\n",
      " 3.763 3.674 3.769 3.791 3.902 3.737 3.991 3.719 3.897 3.815 3.769 3.857\n",
      " 3.962 3.563 3.387 3.771 3.582 3.869 3.594 3.687 3.773 3.69  3.755 3.825\n",
      " 3.268 3.395 3.408 3.465 3.574 3.231 3.286 3.472 2.994 3.073 3.074 2.967\n",
      " 2.777 2.687 2.719 2.967 2.911 2.648 2.84  2.776 2.833 2.693 2.755 2.675\n",
      " 2.849 2.745 2.678 2.695 2.879 2.81  2.847 2.968 2.794 2.941 2.897 2.837\n",
      " 2.668 2.715 2.701 2.845 2.763 2.763 2.641 2.821 2.71  2.642 2.758 2.893\n",
      " 2.775 3.017 2.909 2.85  3.026 2.683 2.716 2.675 2.821 2.787 2.717 2.804\n",
      " 2.953 2.63  2.975 3.126 3.054 3.128 2.911 3.155 2.989 3.135 2.81  3.091\n",
      " 2.96  2.981 2.795 3.232 2.836 2.974]\n",
      "[2.221  1.018  2.699  2.259  1.355  2.462  3.586  2.7    2.04   1.969\n",
      " 4.543  1.717  3.986  3.136  2.932  4.185  5.234  1.599  1.767  4.102\n",
      " 3.072  2.688  0.7651 1.415  1.791  0.903  3.373  2.504  2.754  3.531\n",
      " 0.8551 3.412  3.92   2.124  2.129  2.27   2.823  2.956  3.112  6.685\n",
      " 2.587  2.249  2.461  4.711  3.128  1.56   1.367  2.958  2.704  2.129\n",
      " 3.975  5.593  4.116  3.328  1.481  1.933  2.802  1.142  1.999  1.502\n",
      " 2.7    2.269  3.22   4.157  1.176  2.352  1.313  2.217  1.464  3.533\n",
      " 4.076  4.675  4.539  2.936  4.004  4.92   3.824  4.451  5.064  2.858\n",
      " 5.532  5.324  5.173  1.472  2.962  2.443  1.649  3.691  5.78   5.016\n",
      " 1.955  3.12   3.237  6.001  4.933  3.696  3.477  2.144  2.853  2.188\n",
      " 4.217  2.068  4.308  3.357  3.368  2.553  2.843  3.747  3.252  1.738\n",
      " 2.235  3.678  2.109  6.682  4.677  2.248  4.334  3.084  3.639  3.063\n",
      " 5.901  3.619  4.286  2.984  3.336  4.188  4.391  2.257  1.91   5.366\n",
      " 2.837  2.908  4.462  4.266  4.972  3.6    3.526  2.64   2.725  3.769\n",
      " 5.304  7.035  5.995  5.469  4.471  6.169  2.221  4.421  3.26   5.462\n",
      " 5.195  6.992  4.756  3.332  4.048  5.813  3.347  4.825  4.378  5.388\n",
      " 3.082  4.271  4.988  4.419  6.388  2.201  4.924  3.638  4.337  3.521\n",
      " 6.735  6.715  4.309  5.588  5.182  4.773  5.335  4.702  5.876  1.661\n",
      " 4.957  4.987  4.857  5.209  6.185  4.062  4.898  4.179  7.524  4.975\n",
      " 5.398  3.985  3.597  4.853  4.132  4.873  5.483  4.67   3.306  2.828\n",
      " 5.472  2.3    4.051  8.456  3.919  3.631  4.325  8.315  3.598  5.637 ]\n",
      "[5.22  4.956 4.825 4.805 5.175 4.956 5.219 5.    5.877 5.533 5.314 5.001\n",
      " 4.738 4.872 4.825 4.781 4.781 5.046 4.649 4.914 5.176 5.219 5.091 4.961\n",
      " 5.001 5.307 4.825 4.869 5.038 5.097 5.056 5.228 5.299 5.012 5.36  5.443\n",
      " 5.527 5.484 5.309 5.001 5.178 5.176 4.783 5.528 5.18  4.961 5.132 5.175\n",
      " 5.111 5.351 5.144 5.136 5.396 5.224 5.487 5.439 5.044 5.088 5.222 4.519\n",
      " 4.607 4.703 4.605 5.088 4.782 4.607 5.15  5.132 5.3   5.067 6.06  5.877\n",
      " 5.791 6.079 5.841 5.795 5.922 6.451 6.362 5.746 5.88  5.879 6.187 6.273\n",
      " 6.185 6.197 6.109 6.498 6.231 6.321 6.449 6.053 6.053 5.877 6.448 5.967\n",
      " 6.238 6.453 6.273 6.097 5.618 5.837 6.009 6.229 6.148 5.879 6.2   5.929\n",
      " 6.55  5.894 5.794 5.965 5.924 6.053 6.316 6.163 5.75  6.185 5.966 6.32\n",
      " 6.188 6.011 5.703 5.905 5.144 5.992 6.102 5.919 6.185 5.661 5.962 5.949\n",
      " 5.795 5.795 5.847 5.439 5.971 5.879 5.752 5.922 5.395 5.44  5.307 5.221\n",
      " 5.178 5.275 5.132 5.002 5.316 5.194 5.307 5.27  5.36  5.001 5.263 5.219\n",
      " 5.003 5.22  5.31  5.31  5.491 5.308 5.046 5.176 5.049 5.056 5.27  5.338\n",
      " 5.132 5.088 5.163 4.956 5.    5.089 5.185 5.063 5.092 4.963 5.002 5.178\n",
      " 4.825 5.147 5.158 5.135 5.316 5.182 5.352 4.956 4.957 4.794 5.045 5.001\n",
      " 5.132 5.089 5.012 4.914 4.958 5.091 5.231 4.83  5.045 4.745 4.828 5.\n",
      " 5.001 4.87  5.003 5.056 5.044 5.063]\n",
      "[1. 1. 1. 1. 1. 1. 1. 1. 1. 1. 1. 1. 1. 1. 1. 1. 1. 1. 1. 1. 1. 1. 1. 1.\n",
      " 1. 1. 1. 1. 1. 1. 1. 1. 1. 1. 1. 1. 1. 1. 1. 1. 1. 1. 1. 1. 1. 1. 1. 1.\n",
      " 1. 1. 1. 1. 1. 1. 1. 1. 1. 1. 1. 1. 1. 1. 1. 1. 1. 1. 1. 1. 1. 1. 2. 2.\n",
      " 2. 2. 2. 2. 2. 2. 2. 2. 2. 2. 2. 2. 2. 2. 2. 2. 2. 2. 2. 2. 2. 2. 2. 2.\n",
      " 2. 2. 2. 2. 2. 2. 2. 2. 2. 2. 2. 2. 2. 2. 2. 2. 2. 2. 2. 2. 2. 2. 2. 2.\n",
      " 2. 2. 2. 2. 2. 2. 2. 2. 2. 2. 2. 2. 2. 2. 2. 2. 2. 2. 2. 2. 3. 3. 3. 3.\n",
      " 3. 3. 3. 3. 3. 3. 3. 3. 3. 3. 3. 3. 3. 3. 3. 3. 3. 3. 3. 3. 3. 3. 3. 3.\n",
      " 3. 3. 3. 3. 3. 3. 3. 3. 3. 3. 3. 3. 3. 3. 3. 3. 3. 3. 3. 3. 3. 3. 3. 3.\n",
      " 3. 3. 3. 3. 3. 3. 3. 3. 3. 3. 3. 3. 3. 3. 3. 3. 3. 3.]\n"
     ]
    }
   ],
   "source": [
    "import math\n",
    "from scipy.special import softmax\n",
    "\n",
    "# empty array\n",
    "dataset_transformed = np.array([])\n",
    "\n",
    "\n",
    "for j in range(1, D.shape[1]):\n",
    "    # print(D[:, j])\n",
    "    unique_values = np.unique(D[:, j])\n",
    "    n = unique_values.size\n",
    "    \n",
    "    # define empty array\n",
    "    subset_j = D[:, j]\n",
    "\n",
    "    probability = softmax(subset_j)\n",
    "\n",
    "    subset_i_of_j = []\n",
    "    # print(probability)\n",
    "\n",
    "    # p_j = softmax(D[:, j])\n",
    "    # # print(p)\n",
    "    for i in range(n):\n",
    "        \n",
    "        sum_k_temp = 0\n",
    "        for k in range(1, i+1):\n",
    "            # probability of k is p_{k}\n",
    "            p_k = probability[k]\n",
    "            sum_k_temp += (n - k) * p_k\n",
    "        \n",
    "        mu_i = sum_k_temp * math.sqrt((1 - i * probability[i]**3)/ probability[i]*probability[j]*(i - j)**2)\n",
    "        std_dev_i = probability[i]\n",
    "        \n",
    "        # # gaussian distribution N(mean_i, std_dev_i)\n",
    "        gaussian_distribution = np.random.normal(mu_i, std_dev_i, 1)\n",
    "            \n",
    "        # append value gaussian distribution to array\n",
    "        subset_i_of_j.append(gaussian_distribution[0])\n",
    "\n",
    "    print(subset_i_of_j)"
   ]
  },
  {
   "cell_type": "code",
   "execution_count": null,
   "metadata": {},
   "outputs": [],
   "source": [
    "    print(dir(p))\n",
    "    # for i in range(n):\n",
    "    #     # print()\n",
    "        \n",
    "    #     p_k = p[k]\n",
    "    #     p_i = p[i]\n",
    "    #     mean_i = ((n-i) - sum(n - k) * p_k) / np.sqrt((1 - sum(p_i**3)) / sum(i * p_i*p[j]*(i - j)**2))\n",
    "    #     # std_dev = p[i]\n",
    "    #     k = k + 1\n",
    "    #     print(p_k)"
   ]
  },
  {
   "cell_type": "code",
   "execution_count": 199,
   "metadata": {},
   "outputs": [
    {
     "data": {
      "image/png": "[encoded data removed]",
      "text/plain": [
       "<Figure size 432x288 with 1 Axes>"
      ]
     },
     "metadata": {
      "needs_background": "light"
     },
     "output_type": "display_data"
    }
   ],
   "source": [
    "# plot data\n",
    "import matplotlib.pyplot as plt\n",
    "\n",
    "# initialize plot 1\n",
    "plt.figure(1)\n",
    "plt.scatter(D[:, 0], D[:, 1], c=kmeans.labels_, s=50, cmap='viridis')\n",
    "plt.xlabel('sepal length')\n",
    "plt.ylabel('sepal width')\n",
    "plt.title('Normalization Dataset K-means clustering')\n",
    "\n",
    "# initialize plot 2\n",
    "# plt.figure(2)\n",
    "# plt.scatter(df_scaled2[:, 0], df_scaled2[:, 1], c=label2, s=50, cmap='viridis')\n",
    "# plt.xlabel('sepal length')\n",
    "# plt.ylabel('sepal width')\n",
    "# plt.title('UFT (MI Based) K-means clustering')\n",
    "\n",
    "plt.show()"
   ]
  }
 ],
 "metadata": {
  "kernelspec": {
   "display_name": "Python 3.10.6 64-bit (windows store)",
   "language": "python",
   "name": "python3"
  },
  "language_info": {
   "codemirror_mode": {
    "name": "ipython",
    "version": 3
   },
   "file_extension": ".py",
   "mimetype": "text/x-python",
   "name": "python",
   "nbconvert_exporter": "python",
   "pygments_lexer": "ipython3",
   "version": "3.10.6"
  },
  "orig_nbformat": 4,
  "vscode": {
   "interpreter": {
    "hash": "ff7573f1831cb99fcd99b3a81494c967ce7bb90e5d2619f47f81c5d8e958e1df"
   }
  }
 },
 "nbformat": 4,
 "nbformat_minor": 2
}
